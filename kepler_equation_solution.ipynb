{
  "nbformat": 4,
  "nbformat_minor": 0,
  "metadata": {
    "colab": {
      "provenance": [],
      "authorship_tag": "ABX9TyNm0iS4O/VhnrEYwf80y+Qt",
      "include_colab_link": true
    },
    "kernelspec": {
      "name": "python3",
      "display_name": "Python 3"
    },
    "language_info": {
      "name": "python"
    }
  },
  "cells": [
    {
      "cell_type": "markdown",
      "metadata": {
        "id": "view-in-github",
        "colab_type": "text"
      },
      "source": [
        "<a href=\"https://colab.research.google.com/github/Andrey-Chh/Kepler-Equation-Solution/blob/main/kepler_equation_solution.ipynb\" target=\"_parent\"><img src=\"https://colab.research.google.com/assets/colab-badge.svg\" alt=\"Open In Colab\"/></a>"
      ]
    },
    {
      "cell_type": "markdown",
      "metadata": {
        "id": "fmExh3sihDgF"
      },
      "source": [
        "# Задание\n",
        "## 21. Уравнение Кеплера\n",
        "[Каханер–Моулер–Нэш]\n",
        "\n",
        "*Уравнение Кеплера* для вычисления орбиты имеет вид\n",
        "$$\n",
        "    M=E-\\varepsilon\\sin E,\n",
        "$$\n",
        "где $M$ – средняя аномалия, $E$ – эксцентрическая аномалия, $\\varepsilon$ – эксцентриситет орбиты.\n",
        "Пусть $M=24.851090$, $\\varepsilon=0.1$. \n",
        "  * Изобразите полученную орбиту.\n",
        "  * С помощью функции `scipy.optimize.brentq` найдите $E$.\n",
        "  * Вычислите $E$ с помощью формулы\n",
        "  $$\n",
        "    E = M + 2\\sum_{m=1}^{\\infty} \\frac{1}{m} J_m(m\\varepsilon) \\sin(mM),\n",
        "  $$\n",
        "  где $J_m(x)$ – функция Бесселя $1$-го рода порядка $m$.\n",
        "  * Найдите $E$ по предыдущей формуле, используя равенство\n",
        "  $$\n",
        "    J_m(m\\varepsilon) = \\sum_{n=0}^{\\infty} \\frac{(-1)^n (m\\varepsilon/2)^{2n+m}}{n!(m+n)!}.\n",
        "  $$\n",
        "\n",
        "Проведите сравнение вычислительных затрат и точности результатов, полученных каждым из трех способов."
      ]
    },
    {
      "cell_type": "markdown",
      "source": [
        "# Определения\n",
        "\n",
        "**Эксцентрическая аномалия** $E$ — это угловое расстояние между *перицентром* и текущим положением воображаемого тела на вспомогательной круговой орбите относительно центра орбиты.\n",
        "\n",
        "**Истинная аномалия** $\\nu$ — это угловое расстояние между *перицентром* и текущей позицией тела на орбите относительно центрального тела.\n",
        "\n",
        "**Средняя аномалия** $M$ — это угловое расстояние относительно центра орбиты между *перицентром* и текущей позицией воображаемого тела на вспомогательной круговой орбите, движущегося с постоянной угловой скоростью и проходящего через *перицентр* одновременно с реальным телом.\n",
        "\n",
        "*Перицентр* — это точка на орбите, ближайшая к центральному телу.\n",
        "***\n",
        "\n",
        "**Эксцентриситет орбиты** $\\varepsilon$ — это числовая характеристика отклонения орбиты от круговой формы."
      ],
      "metadata": {
        "id": "HsbNsmboj6dG"
      }
    },
    {
      "cell_type": "markdown",
      "source": [
        "# Решение"
      ],
      "metadata": {
        "id": "XiTCjhuP7A6_"
      }
    },
    {
      "cell_type": "markdown",
      "source": [
        "Импортируем необходимые библиотеки"
      ],
      "metadata": {
        "id": "qbLXMQUM0O3I"
      }
    },
    {
      "cell_type": "code",
      "source": [
        "import numpy as np\n",
        "from scipy import optimize, special\n",
        "import matplotlib.pyplot as plt\n",
        "import timeit\n",
        "import pandas as pd\n",
        "pd.set_option(\"display.precision\", 15) # устанавливаем точность вывода чисел с плавающей запятой"
      ],
      "metadata": {
        "id": "QSeGJGluz7ft"
      },
      "execution_count": 50,
      "outputs": []
    },
    {
      "cell_type": "markdown",
      "source": [
        "Данные константы"
      ],
      "metadata": {
        "id": "kpDcnRvw0Xvq"
      }
    },
    {
      "cell_type": "code",
      "source": [
        "M = 24.85109\n",
        "EPSILON = 0.1"
      ],
      "metadata": {
        "id": "26AJwBRhKGbm"
      },
      "execution_count": 51,
      "outputs": []
    },
    {
      "cell_type": "markdown",
      "source": [
        "### 1. Получить и изобразить орбиту."
      ],
      "metadata": {
        "id": "zkGx2rts7j8J"
      }
    },
    {
      "cell_type": "markdown",
      "source": [
        "Для получения орбиты необходимо выполнить следующие шаги:\n",
        "1. Определить массив значений эксцентрической аномалии $E$.\n",
        "2. Вычислить соответствующие значения истинной аномалии $\\nu$, используя формулу\n",
        "$$\n",
        "    \\nu = 2\\arctan\\left(\\sqrt{\\frac{1 + \\varepsilon}{1 - \\varepsilon}} \\tan\\frac{E}{2}\\right)\n",
        "$$\n",
        "\n",
        "    \n",
        "3. Вычислить соответствующие значения расстояния $r$ между центральным телом и телом, находящимся на орбите в момент времени в соответствующих точках, используя формулу\n",
        "$$\n",
        "    r = \\frac{a(1 - e^{2})}{1 + e\\cos\\nu}\n",
        "$$\n",
        "\n   ",
        "где $a$ является большой полуосью орбиты (пусть $a$ = 1)\n",
        "    \n",
        "4. Преобразовать полярные координаты в декартовы, используя формулы\n",
        "$$\n",
        "    \\begin{cases} x = r \\cos\\nu \\\\ y = r \\sin\\nu \\end{cases}\n",
        "$$"
      ],
      "metadata": {
        "id": "FcpqD7_Z73zU"
      }
    },
    {
      "cell_type": "code",
      "source": [
        "def calculate_true_anomaly(E):\n",
        "    \"\"\"Вычисляет значение истинной аномалии\"\"\"\n",
        "    return 2 * np.arctan(np.sqrt((1 + EPSILON) / (1 - EPSILON)) * np.tan(E / 2))\n",
        "\n",
        "def calculate_radius_vector(nu):\n",
        "    \"\"\"Вычисляет расстояние между центральным телом и телом, находящимся на орбите\"\"\"\n",
        "    return (1 - EPSILON ** 2) / (1 + EPSILON * np.cos(nu))\n",
        "\n",
        "# Создаем массив значений эксцентрической аномалии\n",
        "E_vals = np.linspace(0, 2 * np.pi, 1000)\n",
        "\n",
        "# Вычисляем соответствующие значения истинной аномалии\n",
        "nu_vals = calculate_true_anomaly(E_vals)\n",
        "\n",
        "# Вычисляем расстояние между центральным телом и телом, находящимся на орбите для каждого значения истинной аномалии\n",
        "r_vals = calculate_radius_vector(nu_vals)\n",
        "\n",
        "# Преобразуем полярные координаты в декартовы\n",
        "x_vals = r_vals * np.cos(nu_vals)\n",
        "y_vals = r_vals * np.sin(nu_vals)\n",
        "\n",
        "# Строим график орбиты\n",
        "plt.scatter(0, 0, label='Центральное тело', color='black') # центральное тело\n",
        "plt.plot(x_vals, y_vals, label='Орбита') # орбита\n",
        "\n",
        "plt.title('Орбита по уравнению Кеплера')\n",
        "plt.xlabel('x')\n",
        "plt.ylabel('y')\n",
        "plt.axis('equal')\n",
        "plt.legend(bbox_to_anchor=(1.4, 1))\n",
        "plt.grid(True)\n",
        "\n",
        "plt.show()"
      ],
      "metadata": {
        "colab": {
          "base_uri": "https://localhost:8080/",
          "height": 472
        },
        "id": "-DaiWUg37zXC",
        "outputId": "aa3e2c6b-5c6c-4d8b-ad21-b74c638e0b3a"
      },
      "execution_count": 52,
      "outputs": [
        {
          "output_type": "display_data",
          "data": {
            "text/plain": [
              "<Figure size 640x480 with 1 Axes>"
            ],
            "image/png": "[encoded data removed]"
          },
          "metadata": {}
        }
      ]
    },
    {
      "cell_type": "markdown",
      "source": [
        "### 2. Найти $E$ с помощью функции `scipy.optimize.brentq`."
      ],
      "metadata": {
        "id": "rUIk0a0K_dMD"
      }
    },
    {
      "cell_type": "markdown",
      "source": [
        "`scipy.optimize.brentq(f, a, b)` Возвращает корень функции в заданном интервале, используя метод Брента.\n",
        "\n",
        "Аргументы\n",
        "- `f` : функция.\n",
        "- `a` : левая граница интервала.\n",
        "- `b` : правая граница интервала.\n",
        "\n",
        "Возвращаемое значение\n",
        "- `x0` : Корень функции в заданном интервале.\n",
        "\n",
        "Примечания\n",
        "- Функция `f` должна быть непрерывной на заданном интервале, а `f(a)` и `f(b)` должны иметь противоположные знаки."
      ],
      "metadata": {
        "id": "q4DU6QwydgL4"
      }
    },
    {
      "cell_type": "code",
      "source": [
        "def calculate_E1():\n",
        "    def kepler_eq(E):\n",
        "        return E - EPSILON * np.sin(E) - M\n",
        "\n",
        "    return optimize.brentq(kepler_eq, 20, 30)\n",
        "\n",
        "E1 = calculate_E1()\n",
        "print(f\"{E1 = }\")"
      ],
      "metadata": {
        "id": "mDHD3ihe_qJS",
        "colab": {
          "base_uri": "https://localhost:8080/"
        },
        "outputId": "6cb59572-1c7b-4d0e-aa01-cad312e2f9d6"
      },
      "execution_count": 53,
      "outputs": [
        {
          "output_type": "stream",
          "name": "stdout",
          "text": [
            "E1 = 24.820357182542907\n"
          ]
        }
      ]
    },
    {
      "cell_type": "markdown",
      "source": [
        "### 3. Вычислить $E$ с помощью формулы\n",
        "$$\n",
        "    E = M + 2\\sum_{m=1}^{\\infty} \\frac{1}{m} J_m(m\\varepsilon) \\sin(mM)\n",
        "$$\n",
        "где $J_m(x)$ – функция Бесселя $1$-го рода порядка $m$."
      ],
      "metadata": {
        "id": "be2U7woVLUtq"
      }
    },
    {
      "cell_type": "markdown",
      "source": [
        "Для вычисления значения функции Бесселя $1$-го рода будем использовать функцию `scipy.special.jv`.\n",
        "\n",
        "`scipy.special.jv(m, x)` возвращает значение функции Бесселя первого рода порядка `m`, с аргументом `x`."
      ],
      "metadata": {
        "id": "DNNZCqbiyhi2"
      }
    },
    {
      "cell_type": "code",
      "source": [
        "def calculate_E2():\n",
        "    N = 30\n",
        "    m = np.arange(1, N + 1)\n",
        "    result = np.sum((1 / m) * special.jv(m, m * EPSILON) * np.sin(m * M))\n",
        "    return M + 2 * result\n",
        "\n",
        "E2 = calculate_E2()\n",
        "print(f\"{E2 = }\")"
      ],
      "metadata": {
        "id": "yMpmm5nFLdmA",
        "colab": {
          "base_uri": "https://localhost:8080/"
        },
        "outputId": "8e8aa5b1-dbc0-48b1-ce75-807eb0d83d62"
      },
      "execution_count": 54,
      "outputs": [
        {
          "output_type": "stream",
          "name": "stdout",
          "text": [
            "E2 = 24.820357182542907\n"
          ]
        }
      ]
    },
    {
      "cell_type": "markdown",
      "source": [
        "### 4. Вычислить $E$ с помощью формулы\n",
        "$$\n",
        "    E = M + 2\\sum_{m=1}^{\\infty} \\frac{1}{m} J_m(m\\varepsilon) \\sin(mM)\n",
        "$$\n",
        "используя равенство\n",
        "$$\n",
        "    J_m(m\\varepsilon) = \\sum_{n=0}^{\\infty} \\frac{(-1)^n (m\\varepsilon/2)^{2n + m}}{n!(m + n)!}\n",
        "$$"
      ],
      "metadata": {
        "id": "db5kjom55Gb0"
      }
    },
    {
      "cell_type": "code",
      "source": [
        "def calculate_E3():\n",
        "    def infinite_sum(m):\n",
        "        N = 30\n",
        "        n = np.arange(0, N + 1)\n",
        "\n",
        "        numerator = ((-1) ** n) * (((m * EPSILON) / 2) ** (2 * n + m))\n",
        "        denominator = special.factorial(n) * special.factorial(n + m)\n",
        "        terms = numerator / denominator\n",
        "        return np.sum(terms)\n",
        "\n",
        "    N = 30\n",
        "    m = np.arange(1, N + 1)\n",
        "    terms = (1 / m) * np.vectorize(infinite_sum)(m) * np.sin(m * M)\n",
        "    result = np.sum(terms)\n",
        "    return M + 2 * result\n",
        "\n",
        "E3 = calculate_E3()\n",
        "print(f\"{E3 = }\")"
      ],
      "metadata": {
        "id": "tlIXntEeNsky",
        "colab": {
          "base_uri": "https://localhost:8080/"
        },
        "outputId": "88fed434-4a70-49ba-90b2-d8cab43fc82a"
      },
      "execution_count": 55,
      "outputs": [
        {
          "output_type": "stream",
          "name": "stdout",
          "text": [
            "E3 = 24.820357182542907\n"
          ]
        }
      ]
    },
    {
      "cell_type": "markdown",
      "source": [
        "### 5. Сравнить точность результатов и вычислительные затраты"
      ],
      "metadata": {
        "id": "LMA6F4vdrXfz"
      }
    },
    {
      "cell_type": "markdown",
      "source": [
        "Для сравнения точности результатов мы будем использовать уравнение Кеплера для вычисления значений средней аномалии $M_i$ на основе найденных значений эксцентрической аномалии $E_i$. Затем мы сравним эти значения с данным значением средней аномалии $M = 24.85109$, вычислим абсолютную и относительную ошибки.\n",
        "\n",
        "Для представления результатов сравнения мы воспользуемся объектом `DataFrame` из библиотеки `pandas`."
      ],
      "metadata": {
        "id": "t1mbxuOByWK-"
      }
    },
    {
      "cell_type": "code",
      "source": [
        "df = pd.DataFrame(columns=['E', 'абсолютная ошибка', 'относительная ошибка'])\n",
        "\n",
        "for i, Ei in enumerate((E1, E2, E3), 1):\n",
        "    Mi = Ei - EPSILON * np.sin(Ei)\n",
        "    absolute_error = abs(Mi - M) \n",
        "    relative_error = absolute_error / abs(M)\n",
        "    df.loc[f\"E{i}\"] = ([Ei, absolute_error, relative_error])"
      ],
      "metadata": {
        "id": "geCPlVM0rXVz"
      },
      "execution_count": 56,
      "outputs": []
    },
    {
      "cell_type": "markdown",
      "source": [
        "Для сравнения вычислительных затрат, измерим время, затраченное на вычисление каждого значения эксцентрической аномалии $E_i$ с использованием функции `timeit.timeit`.\n",
        "\n",
        "***\n",
        "Модуль `timeit` предоставляет функцию `timeit` для измерения времени выполнения небольших фрагментов кода.\n",
        "\n",
        "\n",
        "\n",
        "`timeit.timeit(stmt, number)` измеряет время выполнения функции `stmt` указанное количество раз `number` и возвращает общее время выполнения.\n",
        "\n",
        "Аргументы\n",
        "- `stmt` : функция для измерения времени выполнения.\n",
        "- `number` : количество повторений для измерения времени выполнения.\n",
        "\n",
        "Возвращаемое значение\n",
        "- `time` : общее время выполнения кода в секундах."
      ],
      "metadata": {
        "id": "YD3fR0Vqa7jb"
      }
    },
    {
      "cell_type": "code",
      "source": [
        "E1_calculation_time = timeit.timeit(stmt=calculate_E1, number=100000) * 10\n",
        "E2_calculation_time = timeit.timeit(stmt=calculate_E2, number=100000) * 10\n",
        "E3_calculation_time = timeit.timeit(stmt=calculate_E3, number=100000) * 10\n",
        "# так как number = 100000, то E1_calculation_time равно времени выполнения функции calculate_E1 (в секундах) умноженному на 100000.\n",
        "# домножив результат на 10, получим время выполнения функции calculate_E1 в микросекундах.\n",
        "\n",
        "df[\"время вычисления (мксек.)\"] = (E1_calculation_time, E2_calculation_time, E3_calculation_time)"
      ],
      "metadata": {
        "id": "rvtWLnZygi86"
      },
      "execution_count": 59,
      "outputs": []
    },
    {
      "cell_type": "markdown",
      "source": [
        "Итоговая таблица \"Cравнение точности результатов и вычислительных затрат\" имеет следующий вид:"
      ],
      "metadata": {
        "id": "gnABvQxaFNnD"
      }
    },
    {
      "cell_type": "code",
      "source": [
        "display(df)"
      ],
      "metadata": {
        "colab": {
          "base_uri": "https://localhost:8080/",
          "height": 143
        },
        "id": "cnbq884WzMDb",
        "outputId": "0fa55307-5f1b-4b22-b41e-2b6da91c17c9"
      },
      "execution_count": 60,
      "outputs": [
        {
          "output_type": "display_data",
          "data": {
            "text/plain": [
              "                     E  абсолютная ошибка  относительная ошибка  \\\n",
              "E1  24.820357182542907                0.0                   0.0   \n",
              "E2  24.820357182542907                0.0                   0.0   \n",
              "E3  24.820357182542907                0.0                   0.0   \n",
              "\n",
              "    время вычисления (мксек.)  \n",
              "E1         11.341910720002488  \n",
              "E2         24.516221789999690  \n",
              "E3        883.309259310008201  "
            ],
            "text/html": [
              "\n",
              "  <div id=\"df-63377e83-5050-45e3-9325-5102b4a6055a\">\n",
              "    <div class=\"colab-df-container\">\n",
              "      <div>\n",
              "<style scoped>\n",
              "    .dataframe tbody tr th:only-of-type {\n",
              "        vertical-align: middle;\n",
              "    }\n",
              "\n",
              "    .dataframe tbody tr th {\n",
              "        vertical-align: top;\n",
              "    }\n",
              "\n",
              "    .dataframe thead th {\n",
              "        text-align: right;\n",
              "    }\n",
              "</style>\n",
              "<table border=\"1\" class=\"dataframe\">\n",
              "  <thead>\n",
              "    <tr style=\"text-align: right;\">\n",
              "      <th></th>\n",
              "      <th>E</th>\n",
              "      <th>абсолютная ошибка</th>\n",
              "      <th>относительная ошибка</th>\n",
              "      <th>время вычисления (мксек.)</th>\n",
              "    </tr>\n",
              "  </thead>\n",
              "  <tbody>\n",
              "    <tr>\n",
              "      <th>E1</th>\n",
              "      <td>24.820357182542907</td>\n",
              "      <td>0.0</td>\n",
              "      <td>0.0</td>\n",
              "      <td>11.341910720002488</td>\n",
              "    </tr>\n",
              "    <tr>\n",
              "      <th>E2</th>\n",
              "      <td>24.820357182542907</td>\n",
              "      <td>0.0</td>\n",
              "      <td>0.0</td>\n",
              "      <td>24.516221789999690</td>\n",
              "    </tr>\n",
              "    <tr>\n",
              "      <th>E3</th>\n",
              "      <td>24.820357182542907</td>\n",
              "      <td>0.0</td>\n",
              "      <td>0.0</td>\n",
              "      <td>883.309259310008201</td>\n",
              "    </tr>\n",
              "  </tbody>\n",
              "</table>\n",
              "</div>\n",
              "      <button class=\"colab-df-convert\" onclick=\"convertToInteractive('df-63377e83-5050-45e3-9325-5102b4a6055a')\"\n",
              "              title=\"Convert this dataframe to an interactive table.\"\n",
              "              style=\"display:none;\">\n",
              "        \n",
              "  <svg xmlns=\"http://www.w3.org/2000/svg\" height=\"24px\"viewBox=\"0 0 24 24\"\n",
              "       width=\"24px\">\n",
              "    <path d=\"M0 0h24v24H0V0z\" fill=\"none\"/>\n",
              "    <path d=\"M18.56 5.44l.94 2.06.94-2.06 2.06-.94-2.06-.94-.94-2.06-.94 2.06-2.06.94zm-11 1L8.5 8.5l.94-2.06 2.06-.94-2.06-.94L8.5 2.5l-.94 2.06-2.06.94zm10 10l.94 2.06.94-2.06 2.06-.94-2.06-.94-.94-2.06-.94 2.06-2.06.94z\"/><path d=\"M17.41 7.96l-1.37-1.37c-.4-.4-.92-.59-1.43-.59-.52 0-1.04.2-1.43.59L10.3 9.45l-7.72 7.72c-.78.78-.78 2.05 0 2.83L4 21.41c.39.39.9.59 1.41.59.51 0 1.02-.2 1.41-.59l7.78-7.78 2.81-2.81c.8-.78.8-2.07 0-2.86zM5.41 20L4 18.59l7.72-7.72 1.47 1.35L5.41 20z\"/>\n",
              "  </svg>\n",
              "      </button>\n",
              "      \n",
              "  <style>\n",
              "    .colab-df-container {\n",
              "      display:flex;\n",
              "      flex-wrap:wrap;\n",
              "      gap: 12px;\n",
              "    }\n",
              "\n",
              "    .colab-df-convert {\n",
              "      background-color: #E8F0FE;\n",
              "      border: none;\n",
              "      border-radius: 50%;\n",
              "      cursor: pointer;\n",
              "      display: none;\n",
              "      fill: #1967D2;\n",
              "      height: 32px;\n",
              "      padding: 0 0 0 0;\n",
              "      width: 32px;\n",
              "    }\n",
              "\n",
              "    .colab-df-convert:hover {\n",
              "      background-color: #E2EBFA;\n",
              "      box-shadow: 0px 1px 2px rgba(60, 64, 67, 0.3), 0px 1px 3px 1px rgba(60, 64, 67, 0.15);\n",
              "      fill: #174EA6;\n",
              "    }\n",
              "\n",
              "    [theme=dark] .colab-df-convert {\n",
              "      background-color: #3B4455;\n",
              "      fill: #D2E3FC;\n",
              "    }\n",
              "\n",
              "    [theme=dark] .colab-df-convert:hover {\n",
              "      background-color: #434B5C;\n",
              "      box-shadow: 0px 1px 3px 1px rgba(0, 0, 0, 0.15);\n",
              "      filter: drop-shadow(0px 1px 2px rgba(0, 0, 0, 0.3));\n",
              "      fill: #FFFFFF;\n",
              "    }\n",
              "  </style>\n",
              "\n",
              "      <script>\n",
              "        const buttonEl =\n",
              "          document.querySelector('#df-63377e83-5050-45e3-9325-5102b4a6055a button.colab-df-convert');\n",
              "        buttonEl.style.display =\n",
              "          google.colab.kernel.accessAllowed ? 'block' : 'none';\n",
              "\n",
              "        async function convertToInteractive(key) {\n",
              "          const element = document.querySelector('#df-63377e83-5050-45e3-9325-5102b4a6055a');\n",
              "          const dataTable =\n",
              "            await google.colab.kernel.invokeFunction('convertToInteractive',\n",
              "                                                     [key], {});\n",
              "          if (!dataTable) return;\n",
              "\n",
              "          const docLinkHtml = 'Like what you see? Visit the ' +\n",
              "            '<a target=\"_blank\" href=https://colab.research.google.com/notebooks/data_table.ipynb>data table notebook</a>'\n",
              "            + ' to learn more about interactive tables.';\n",
              "          element.innerHTML = '';\n",
              "          dataTable['output_type'] = 'display_data';\n",
              "          await google.colab.output.renderOutput(dataTable, element);\n",
              "          const docLink = document.createElement('div');\n",
              "          docLink.innerHTML = docLinkHtml;\n",
              "          element.appendChild(docLink);\n",
              "        }\n",
              "      </script>\n",
              "    </div>\n",
              "  </div>\n",
              "  "
            ]
          },
          "metadata": {}
        }
      ]
    },
    {
      "cell_type": "markdown",
      "source": [
        "# Выводы\n",
        "\n",
        "- Все найденные значения эксцентрической аномалии $E$ являются корнями уравнения Кеплера.\n",
        "- Вычисление эксцентрической аномалии с использованием функции `scipy.optimize.brentq` происходит быстрее по сравнению с другими методами вычисления."
      ],
      "metadata": {
        "id": "prI9EXp9Yy8T"
      }
    }
  ]
}
